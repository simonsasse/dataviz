{
 "cells": [
  {
   "cell_type": "markdown",
   "metadata": {},
   "source": []
  },
  {
   "cell_type": "markdown",
   "metadata": {},
   "source": [
    "# App for Dataviz"
   ]
  },
  {
   "cell_type": "code",
   "execution_count": 1,
   "metadata": {},
   "outputs": [],
   "source": [
    "\n",
    "import dash\n",
    "from jupyter_dash import JupyterDash\n",
    "from dash import dcc\n",
    "from dash import html\n",
    "from dash.dependencies import Input, Output\n",
    "import plotly.express as px\n",
    "import pandas as pd\n"
   ]
  },
  {
   "cell_type": "markdown",
   "metadata": {},
   "source": [
    "## import data"
   ]
  },
  {
   "cell_type": "code",
   "execution_count": 2,
   "metadata": {},
   "outputs": [
    {
     "data": {
      "text/html": [
       "<div>\n",
       "<style scoped>\n",
       "    .dataframe tbody tr th:only-of-type {\n",
       "        vertical-align: middle;\n",
       "    }\n",
       "\n",
       "    .dataframe tbody tr th {\n",
       "        vertical-align: top;\n",
       "    }\n",
       "\n",
       "    .dataframe thead th {\n",
       "        text-align: right;\n",
       "    }\n",
       "</style>\n",
       "<table border=\"1\" class=\"dataframe\">\n",
       "  <thead>\n",
       "    <tr style=\"text-align: right;\">\n",
       "      <th></th>\n",
       "      <th>Unnamed: 0</th>\n",
       "      <th>average_life_expectancy</th>\n",
       "      <th>population</th>\n",
       "      <th>year</th>\n",
       "      <th>Country</th>\n",
       "      <th>Alpha-2 code</th>\n",
       "      <th>Alpha-3 code</th>\n",
       "      <th>id</th>\n",
       "      <th>Latitude (average)</th>\n",
       "      <th>Longitude (average)</th>\n",
       "    </tr>\n",
       "  </thead>\n",
       "  <tbody>\n",
       "    <tr>\n",
       "      <th>0</th>\n",
       "      <td>0</td>\n",
       "      <td>37.409</td>\n",
       "      <td>11174000</td>\n",
       "      <td>1970</td>\n",
       "      <td>Afghanistan</td>\n",
       "      <td>AF</td>\n",
       "      <td>AFG</td>\n",
       "      <td>4</td>\n",
       "      <td>33.0</td>\n",
       "      <td>65.0</td>\n",
       "    </tr>\n",
       "    <tr>\n",
       "      <th>1</th>\n",
       "      <td>0</td>\n",
       "      <td>37.930</td>\n",
       "      <td>11475000</td>\n",
       "      <td>1971</td>\n",
       "      <td>Afghanistan</td>\n",
       "      <td>AF</td>\n",
       "      <td>AFG</td>\n",
       "      <td>4</td>\n",
       "      <td>33.0</td>\n",
       "      <td>65.0</td>\n",
       "    </tr>\n",
       "    <tr>\n",
       "      <th>2</th>\n",
       "      <td>0</td>\n",
       "      <td>38.461</td>\n",
       "      <td>11791000</td>\n",
       "      <td>1972</td>\n",
       "      <td>Afghanistan</td>\n",
       "      <td>AF</td>\n",
       "      <td>AFG</td>\n",
       "      <td>4</td>\n",
       "      <td>33.0</td>\n",
       "      <td>65.0</td>\n",
       "    </tr>\n",
       "    <tr>\n",
       "      <th>3</th>\n",
       "      <td>0</td>\n",
       "      <td>39.003</td>\n",
       "      <td>12109000</td>\n",
       "      <td>1973</td>\n",
       "      <td>Afghanistan</td>\n",
       "      <td>AF</td>\n",
       "      <td>AFG</td>\n",
       "      <td>4</td>\n",
       "      <td>33.0</td>\n",
       "      <td>65.0</td>\n",
       "    </tr>\n",
       "    <tr>\n",
       "      <th>4</th>\n",
       "      <td>0</td>\n",
       "      <td>39.558</td>\n",
       "      <td>12413000</td>\n",
       "      <td>1974</td>\n",
       "      <td>Afghanistan</td>\n",
       "      <td>AF</td>\n",
       "      <td>AFG</td>\n",
       "      <td>4</td>\n",
       "      <td>33.0</td>\n",
       "      <td>65.0</td>\n",
       "    </tr>\n",
       "  </tbody>\n",
       "</table>\n",
       "</div>"
      ],
      "text/plain": [
       "   Unnamed: 0  average_life_expectancy  population  year      Country  \\\n",
       "0           0                   37.409    11174000  1970  Afghanistan   \n",
       "1           0                   37.930    11475000  1971  Afghanistan   \n",
       "2           0                   38.461    11791000  1972  Afghanistan   \n",
       "3           0                   39.003    12109000  1973  Afghanistan   \n",
       "4           0                   39.558    12413000  1974  Afghanistan   \n",
       "\n",
       "  Alpha-2 code Alpha-3 code  id  Latitude (average)  Longitude (average)  \n",
       "0           AF          AFG   4                33.0                 65.0  \n",
       "1           AF          AFG   4                33.0                 65.0  \n",
       "2           AF          AFG   4                33.0                 65.0  \n",
       "3           AF          AFG   4                33.0                 65.0  \n",
       "4           AF          AFG   4                33.0                 65.0  "
      ]
     },
     "execution_count": 2,
     "metadata": {},
     "output_type": "execute_result"
    }
   ],
   "source": [
    "# read dataframe (preprocessed in main.ipynb)\n",
    "df = pd.read_csv(\"data/merged_data.csv\")\n",
    "df.head()"
   ]
  },
  {
   "cell_type": "markdown",
   "metadata": {},
   "source": [
    "## Modify Data"
   ]
  },
  {
   "cell_type": "code",
   "execution_count": 3,
   "metadata": {},
   "outputs": [],
   "source": [
    "# codes needed to shrink down the dataset to the african countries we want to display\n",
    "african_iso_codes = [\"DZA\"\n",
    ",\"AGO\"\n",
    ",\"BEN\"\n",
    ",\"BWA\"\n",
    ",\"BFA\"\n",
    ",\"BDI\"\n",
    ",\"CMR\"\n",
    ",\"CPV\"\n",
    ",\"CAF\"\n",
    ",\"TCD\"\n",
    ",\"COM\"\n",
    ",\"COG\"\n",
    ",\"COD\"\n",
    ",\"CIV\"\n",
    ",\"DJI\"\n",
    ",\"EGY\"\n",
    ",\"GNQ\"\n",
    ",\"ERI\"\n",
    ",\"ETH\"\n",
    ",\"GAB\"\n",
    ",\"GMB\"\n",
    ",\"GHA\"\n",
    ",\"GIN\"\n",
    ",\"GNB\"\n",
    ",\"KEN\"\n",
    ",\"LSO\"\n",
    ",\"LBR\"\n",
    ",\"LBY\"\n",
    ",\"MDG\"\n",
    ",\"MLI\"\n",
    ",\"MWI\"\n",
    ",\"MRT\"\n",
    ",\"MUS\"\n",
    ",\"MYT\"\n",
    ",\"MAR\"\n",
    ",\"MOZ\"\n",
    ",\"NAM\"\n",
    ",\"NER\"\n",
    ",\"NGA\"\n",
    ",\"REU\"\n",
    ",\"RWA\"\n",
    ",\"STP\"\n",
    ",\"SEN\"\n",
    ",\"SYC\"\n",
    ",\"SLE\"\n",
    ",\"SOM\"\n",
    ",\"ZAF\"\n",
    ",\"SSD\"\n",
    ",\"SDN\"\n",
    ",\"SWZ\"\n",
    ",\"TZA\"\n",
    ",\"TGO\"\n",
    ",\"TUN\"\n",
    ",\"UGA\"\n",
    ",\"ESH\"\n",
    ",\"ZMB\"\n",
    ",\"ZWE\"]\n",
    "# source: https://www.nro.net/list-of-country-codes-in-the-afrinic-region/"
   ]
  },
  {
   "cell_type": "code",
   "execution_count": 4,
   "metadata": {},
   "outputs": [],
   "source": [
    "# shrink dataset to african countries\n",
    "df = df[df[\"Alpha-3 code\"].isin(african_iso_codes)]"
   ]
  },
  {
   "cell_type": "code",
   "execution_count": 5,
   "metadata": {},
   "outputs": [
    {
     "data": {
      "text/html": [
       "<div>\n",
       "<style scoped>\n",
       "    .dataframe tbody tr th:only-of-type {\n",
       "        vertical-align: middle;\n",
       "    }\n",
       "\n",
       "    .dataframe tbody tr th {\n",
       "        vertical-align: top;\n",
       "    }\n",
       "\n",
       "    .dataframe thead th {\n",
       "        text-align: right;\n",
       "    }\n",
       "</style>\n",
       "<table border=\"1\" class=\"dataframe\">\n",
       "  <thead>\n",
       "    <tr style=\"text-align: right;\">\n",
       "      <th></th>\n",
       "      <th>Unnamed: 0</th>\n",
       "      <th>average_life_expectancy</th>\n",
       "      <th>population</th>\n",
       "      <th>year</th>\n",
       "      <th>Country</th>\n",
       "      <th>Alpha-2 code</th>\n",
       "      <th>Alpha-3 code</th>\n",
       "      <th>id</th>\n",
       "      <th>Latitude (average)</th>\n",
       "      <th>Longitude (average)</th>\n",
       "    </tr>\n",
       "  </thead>\n",
       "  <tbody>\n",
       "    <tr>\n",
       "      <th>102</th>\n",
       "      <td>2</td>\n",
       "      <td>50.372</td>\n",
       "      <td>14465000</td>\n",
       "      <td>1970</td>\n",
       "      <td>Algeria</td>\n",
       "      <td>DZ</td>\n",
       "      <td>DZA</td>\n",
       "      <td>12</td>\n",
       "      <td>28.0</td>\n",
       "      <td>3.0</td>\n",
       "    </tr>\n",
       "    <tr>\n",
       "      <th>103</th>\n",
       "      <td>2</td>\n",
       "      <td>50.773</td>\n",
       "      <td>14872000</td>\n",
       "      <td>1971</td>\n",
       "      <td>Algeria</td>\n",
       "      <td>DZ</td>\n",
       "      <td>DZA</td>\n",
       "      <td>12</td>\n",
       "      <td>28.0</td>\n",
       "      <td>3.0</td>\n",
       "    </tr>\n",
       "    <tr>\n",
       "      <th>104</th>\n",
       "      <td>2</td>\n",
       "      <td>51.201</td>\n",
       "      <td>15286000</td>\n",
       "      <td>1972</td>\n",
       "      <td>Algeria</td>\n",
       "      <td>DZ</td>\n",
       "      <td>DZA</td>\n",
       "      <td>12</td>\n",
       "      <td>28.0</td>\n",
       "      <td>3.0</td>\n",
       "    </tr>\n",
       "    <tr>\n",
       "      <th>105</th>\n",
       "      <td>2</td>\n",
       "      <td>51.676</td>\n",
       "      <td>15710000</td>\n",
       "      <td>1973</td>\n",
       "      <td>Algeria</td>\n",
       "      <td>DZ</td>\n",
       "      <td>DZA</td>\n",
       "      <td>12</td>\n",
       "      <td>28.0</td>\n",
       "      <td>3.0</td>\n",
       "    </tr>\n",
       "    <tr>\n",
       "      <th>106</th>\n",
       "      <td>2</td>\n",
       "      <td>52.218</td>\n",
       "      <td>16149000</td>\n",
       "      <td>1974</td>\n",
       "      <td>Algeria</td>\n",
       "      <td>DZ</td>\n",
       "      <td>DZA</td>\n",
       "      <td>12</td>\n",
       "      <td>28.0</td>\n",
       "      <td>3.0</td>\n",
       "    </tr>\n",
       "  </tbody>\n",
       "</table>\n",
       "</div>"
      ],
      "text/plain": [
       "     Unnamed: 0  average_life_expectancy  population  year  Country  \\\n",
       "102           2                   50.372    14465000  1970  Algeria   \n",
       "103           2                   50.773    14872000  1971  Algeria   \n",
       "104           2                   51.201    15286000  1972  Algeria   \n",
       "105           2                   51.676    15710000  1973  Algeria   \n",
       "106           2                   52.218    16149000  1974  Algeria   \n",
       "\n",
       "    Alpha-2 code Alpha-3 code  id  Latitude (average)  Longitude (average)  \n",
       "102           DZ          DZA  12                28.0                  3.0  \n",
       "103           DZ          DZA  12                28.0                  3.0  \n",
       "104           DZ          DZA  12                28.0                  3.0  \n",
       "105           DZ          DZA  12                28.0                  3.0  \n",
       "106           DZ          DZA  12                28.0                  3.0  "
      ]
     },
     "execution_count": 5,
     "metadata": {},
     "output_type": "execute_result"
    }
   ],
   "source": [
    "df.head()"
   ]
  },
  {
   "cell_type": "markdown",
   "metadata": {},
   "source": [
    "## Load Geojson data"
   ]
  },
  {
   "cell_type": "code",
   "execution_count": 6,
   "metadata": {},
   "outputs": [
    {
     "data": {
      "text/plain": [
       "<function FeatureCollection.get(key, default=None, /)>"
      ]
     },
     "execution_count": 6,
     "metadata": {},
     "output_type": "execute_result"
    }
   ],
   "source": [
    "# source: https://public.opendatasoft.com/explore/dataset/country_shapes/export/ \n",
    "import geojson\n",
    "with open(\"data/country_shapes.geojson\") as f:\n",
    "    gj = geojson.load(f)\n",
    "gj.get"
   ]
  },
  {
   "cell_type": "markdown",
   "metadata": {},
   "source": [
    "## Create App"
   ]
  },
  {
   "cell_type": "code",
   "execution_count": 7,
   "metadata": {},
   "outputs": [],
   "source": [
    "# the variable that holds our final webAPP\n",
    "app = JupyterDash(__name__)\n",
    "\n",
    "# here we define the layout and components of our app\n",
    "app.layout = html.Div([\n",
    "    #  africa map container\n",
    "    html.Div([\n",
    "        html.P(\"Life expectancy:\"), # heading\n",
    "        dcc.Graph(id=\"choropleth\"), # africa map figure with id \"chloropleth\"\n",
    "    ], style={'width': '100%', 'height':'90vh', 'margin': '0px 20px 20px 20px'}),\n",
    "    # slider for year selection\n",
    "    html.Div(dcc.Slider(\n",
    "            id='slider',\n",
    "            min=df['year'].min(),\n",
    "            max=df['year'].max(),\n",
    "            value=df['year'].max(),\n",
    "            marks={str(year): str(year) for year in df['year'].unique()},\n",
    "            step=None\n",
    "        ), style={'width': '100%', 'margin': '0px 20px 20px 20px'}),\n",
    "    # dropdown for country selection\n",
    "    html.Div(dcc.Dropdown(\n",
    "                    id='country_select',\n",
    "                    options=[{'label': i, 'value': i} for i in african_iso_codes],\n",
    "                    multi=True\n",
    "                )),\n",
    "    # graph (later for the wormgraph)\n",
    "    html.Div([dcc.Graph(id=\"worm_figure\")], style={'display':'block','margin': '20px 20px 20px 20px'}, id=\"worm_container\")\n",
    "            ])"
   ]
  },
  {
   "cell_type": "markdown",
   "metadata": {},
   "source": [
    "## Create Callback"
   ]
  },
  {
   "cell_type": "code",
   "execution_count": 8,
   "metadata": {},
   "outputs": [],
   "source": [
    "# here we define the functionality and interactivity of our App\n",
    "# define input and output of callback function\n",
    "@app.callback(\n",
    "    Output(\"choropleth\", \"figure\"),\n",
    "    Output(\"worm_figure\", \"figure\"),\n",
    "    # Output(\"worm_container\", \"style\"),\n",
    "    Input(\"slider\", \"value\"),\n",
    "    Input(\"country_select\", \"value\"))\n",
    "# the callback function: called when a value of the defined inputs above changes.\n",
    "def display_choropleth(slider, country_select):\n",
    "    # build the africa map\n",
    "    fig = px.choropleth(\n",
    "        df[df.year == slider], geojson=gj, color=\"average_life_expectancy\",\n",
    "        locations=\"Alpha-3 code\", featureidkey=\"properties.cou_iso3_code\",\n",
    "        projection=\"orthographic\", range_color=[0, 90])\n",
    "    fig.update_geos(fitbounds=\"locations\", visible=False)\n",
    "    fig.update_layout(margin={\"r\":0,\"t\":0,\"l\":0,\"b\":0}, autosize = True)\n",
    "\n",
    "    # worm_style = {'display', 'block'}\n",
    "    # if any countries are selected\n",
    "    if(country_select != None):\n",
    "        fig2 = px.line(df[df[\"Alpha-3 code\"].isin(country_select)], x=\"year\", y=\"average_life_expectancy\")\n",
    "        fig2.update_layout(margin={\"r\":0,\"t\":0,\"l\":0,\"b\":0}, autosize = True)\n",
    "        worm_style = {'display', 'block'}\n",
    "    # else (should actually hide the bottom graph, but that did not work yet)\n",
    "    else:\n",
    "        fig2 = px.line(df,  x=\"year\", y=\"average_life_expectancy\")\n",
    "    # return (what we have defined above)\n",
    "    return fig , fig2 #, worm_style"
   ]
  },
  {
   "cell_type": "markdown",
   "metadata": {},
   "source": [
    "## RUN APP Server"
   ]
  },
  {
   "cell_type": "code",
   "execution_count": 9,
   "metadata": {},
   "outputs": [
    {
     "name": "stdout",
     "output_type": "stream",
     "text": [
      "Dash app running on http://127.0.0.1:8050/\n"
     ]
    }
   ],
   "source": [
    "# run the local server\n",
    "# visit http://127.0.0.1:8050/ in webbrowser to see results and error codes\n",
    "app.run_server(debug=True)"
   ]
  }
 ],
 "metadata": {
  "interpreter": {
   "hash": "619a83e1d7da3890ec51518104e49146b773b740911683a786c6a0462bd5ce3a"
  },
  "kernelspec": {
   "display_name": "Python 3.10.0 64-bit ('dataviz': conda)",
   "language": "python",
   "name": "python3"
  },
  "language_info": {
   "codemirror_mode": {
    "name": "ipython",
    "version": 3
   },
   "file_extension": ".py",
   "mimetype": "text/x-python",
   "name": "python",
   "nbconvert_exporter": "python",
   "pygments_lexer": "ipython3",
   "version": "3.10.2"
  },
  "orig_nbformat": 4
 },
 "nbformat": 4,
 "nbformat_minor": 2
}
